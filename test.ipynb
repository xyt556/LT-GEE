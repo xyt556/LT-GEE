{
  "nbformat": 4,
  "nbformat_minor": 0,
  "metadata": {
    "colab": {
      "name": "Untitled1.ipynb",
      "provenance": [],
      "authorship_tag": "ABX9TyOkSpBGynbnpK2JUdgxjv30",
      "include_colab_link": true
    },
    "kernelspec": {
      "name": "python3",
      "display_name": "Python 3"
    }
  },
  "cells": [
    {
      "cell_type": "markdown",
      "metadata": {
        "id": "view-in-github",
        "colab_type": "text"
      },
      "source": [
        "<a href=\"https://colab.research.google.com/github/xyt556/LT-GEE/blob/master/test.ipynb\" target=\"_parent\"><img src=\"https://colab.research.google.com/assets/colab-badge.svg\" alt=\"Open In Colab\"/></a>"
      ]
    },
    {
      "cell_type": "code",
      "metadata": {
        "id": "gebe9K9HuToL",
        "colab_type": "code",
        "colab": {
          "base_uri": "https://localhost:8080/",
          "height": 239
        },
        "outputId": "4499a93f-9d19-46e5-d929-627f9b232041"
      },
      "source": [
        "import ee\n",
        "print(ee.__version__)\n",
        "# ee.Authenticate()\n",
        "ee.Initialize()\n",
        "import datetime\n",
        "ee_date = ee.Date('2020-01-01')\n",
        "py_date = datetime.datetime.utcfromtimestamp(ee_date.getInfo()['value']/1000.0)\n",
        "py_date = datetime.datetime.utcnow()\n",
        "ee_date = ee.Date(py_date)\n",
        "print(\"ok\")\n",
        "# Load a Landsat image.\n",
        "img = ee.Image('LANDSAT/LT05/C01/T1_SR/LT05_034033_20000913')\n",
        "\n",
        "# Print image object WITHOUT call to getInfo(); prints serialized request instructions.\n",
        "print(img)\n",
        "print()\n",
        "# Print image object WITH call to getInfo(); prints image metadata.\n",
        "print(img.getInfo())\n"
      ],
      "execution_count": 17,
      "outputs": [
        {
          "output_type": "stream",
          "text": [
            "0.1.226\n",
            "ok\n",
            "ee.Image({\n",
            "  \"type\": \"Invocation\",\n",
            "  \"arguments\": {\n",
            "    \"id\": \"LANDSAT/LT05/C01/T1_SR/LT05_034033_20000913\"\n",
            "  },\n",
            "  \"functionName\": \"Image.load\"\n",
            "})\n",
            "\n",
            "{'type': 'Image', 'bands': [{'id': 'B1', 'data_type': {'type': 'PixelType', 'precision': 'int', 'min': -32768, 'max': 32767}, 'dimensions': [7961, 7301], 'crs': 'EPSG:32613', 'crs_transform': [30, 0, 270285, 0, -30, 4414815]}, {'id': 'B2', 'data_type': {'type': 'PixelType', 'precision': 'int', 'min': -32768, 'max': 32767}, 'dimensions': [7961, 7301], 'crs': 'EPSG:32613', 'crs_transform': [30, 0, 270285, 0, -30, 4414815]}, {'id': 'B3', 'data_type': {'type': 'PixelType', 'precision': 'int', 'min': -32768, 'max': 32767}, 'dimensions': [7961, 7301], 'crs': 'EPSG:32613', 'crs_transform': [30, 0, 270285, 0, -30, 4414815]}, {'id': 'B4', 'data_type': {'type': 'PixelType', 'precision': 'int', 'min': -32768, 'max': 32767}, 'dimensions': [7961, 7301], 'crs': 'EPSG:32613', 'crs_transform': [30, 0, 270285, 0, -30, 4414815]}, {'id': 'B5', 'data_type': {'type': 'PixelType', 'precision': 'int', 'min': -32768, 'max': 32767}, 'dimensions': [7961, 7301], 'crs': 'EPSG:32613', 'crs_transform': [30, 0, 270285, 0, -30, 4414815]}, {'id': 'B6', 'data_type': {'type': 'PixelType', 'precision': 'int', 'min': -32768, 'max': 32767}, 'dimensions': [7961, 7301], 'crs': 'EPSG:32613', 'crs_transform': [30, 0, 270285, 0, -30, 4414815]}, {'id': 'B7', 'data_type': {'type': 'PixelType', 'precision': 'int', 'min': -32768, 'max': 32767}, 'dimensions': [7961, 7301], 'crs': 'EPSG:32613', 'crs_transform': [30, 0, 270285, 0, -30, 4414815]}, {'id': 'sr_atmos_opacity', 'data_type': {'type': 'PixelType', 'precision': 'int', 'min': -32768, 'max': 32767}, 'dimensions': [7961, 7301], 'crs': 'EPSG:32613', 'crs_transform': [30, 0, 270285, 0, -30, 4414815]}, {'id': 'sr_cloud_qa', 'data_type': {'type': 'PixelType', 'precision': 'int', 'min': 0, 'max': 255}, 'dimensions': [7961, 7301], 'crs': 'EPSG:32613', 'crs_transform': [30, 0, 270285, 0, -30, 4414815]}, {'id': 'pixel_qa', 'data_type': {'type': 'PixelType', 'precision': 'int', 'min': 0, 'max': 65535}, 'dimensions': [7961, 7301], 'crs': 'EPSG:32613', 'crs_transform': [30, 0, 270285, 0, -30, 4414815]}, {'id': 'radsat_qa', 'data_type': {'type': 'PixelType', 'precision': 'int', 'min': 0, 'max': 255}, 'dimensions': [7961, 7301], 'crs': 'EPSG:32613', 'crs_transform': [30, 0, 270285, 0, -30, 4414815]}], 'id': 'LANDSAT/LT05/C01/T1_SR/LT05_034033_20000913', 'version': 1538944486718967, 'properties': {'IMAGE_QUALITY': 9, 'SATELLITE': 'LANDSAT_5', 'SOLAR_AZIMUTH_ANGLE': 141.401031, 'CLOUD_COVER': 0, 'WRS_PATH': 34, 'EARTH_SUN_DISTANCE': 1.005947, 'system:time_start': 968865725989, 'LANDSAT_ID': 'LT05_L1TP_034033_20000913_20160918_01_T1', 'SENSING_TIME': '2000-09-13T17:22:05.9890880Z', 'ESPA_VERSION': '2_19_0c', 'SOLAR_ZENITH_ANGLE': 41.934059, 'system:footprint': {'type': 'LinearRing', 'coordinates': [[-107.02869086291923, 39.84432363800019], [-107.07980980087045, 39.85126661965529], [-107.08652717633666, 39.849697643108755], [-107.0897758455212, 39.8405819578208], [-107.11182940314823, 39.7707179631659], [-107.21879155445666, 39.413849310454374], [-107.37259194928556, 38.891052103694385], [-107.52433643751696, 38.368081812423796], [-107.55395385669085, 38.263097139745526], [-107.56063282665062, 38.23679490602129], [-107.55934893818782, 38.23317297774577], [-105.49311751312952, 37.930606804132815], [-105.48965894759056, 37.939600449971515], [-105.4779323992155, 37.97426299040739], [-105.4665343056877, 38.00837900396258], [-105.29373593893524, 38.543204771752215], [-105.00027724293751, 39.443187322446825], [-104.96794099898516, 39.54191304485849], [-107.02869086291923, 39.84432363800019]]}, 'WRS_ROW': 33, 'GEOMETRIC_RMSE_MODEL_Y': 3.358, 'LEVEL1_PRODUCTION_DATE': 1474209899000, 'CLOUD_COVER_LAND': 0, 'GEOMETRIC_RMSE_MODEL_X': 2.493, 'system:asset_size': 365532987, 'GEOMETRIC_RMSE_MODEL': 4.182, 'SR_APP_VERSION': 'LEDAPS_3.2.0', 'PIXEL_QA_VERSION': 'generate_pixel_qa_1.5.0', 'system:index': 'LT05_034033_20000913'}}\n"
          ],
          "name": "stdout"
        }
      ]
    }
  ]
}